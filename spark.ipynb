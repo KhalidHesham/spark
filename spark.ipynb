{
 "cells": [
  {
   "cell_type": "code",
   "execution_count": 0,
   "metadata": {
    "application/vnd.databricks.v1+cell": {
     "cellMetadata": {
      "byteLimit": 2048000,
      "rowLimit": 10000
     },
     "inputWidgets": {},
     "nuid": "a981955c-5311-4e07-8101-5ae8e43a1b87",
     "showTitle": false,
     "title": ""
    }
   },
   "outputs": [
    {
     "output_type": "display_data",
     "data": {
      "text/html": [
       "<style scoped>\n",
       "  .table-result-container {\n",
       "    max-height: 300px;\n",
       "    overflow: auto;\n",
       "  }\n",
       "  table, th, td {\n",
       "    border: 1px solid black;\n",
       "    border-collapse: collapse;\n",
       "  }\n",
       "  th, td {\n",
       "    padding: 5px;\n",
       "  }\n",
       "  th {\n",
       "    text-align: left;\n",
       "  }\n",
       "</style><div class='table-result-container'><table class='table-result'><thead style='background-color: white'><tr><th>path</th><th>name</th><th>size</th><th>modificationTime</th></tr></thead><tbody><tr><td>dbfs:/databricks-datasets/samples/docs/README.md</td><td>README.md</td><td>3137</td><td>1465190449000</td></tr></tbody></table></div>"
      ]
     },
     "metadata": {
      "application/vnd.databricks.v1+output": {
       "addedWidgets": {},
       "aggData": [],
       "aggError": "",
       "aggOverflow": false,
       "aggSchema": [],
       "aggSeriesLimitReached": false,
       "aggType": "",
       "arguments": {},
       "columnCustomDisplayInfos": {},
       "data": [
        [
         "dbfs:/databricks-datasets/samples/docs/README.md",
         "README.md",
         3137,
         1465190449000
        ]
       ],
       "datasetInfos": [],
       "dbfsResultPath": null,
       "isJsonSchema": true,
       "metadata": {},
       "overflow": false,
       "plotOptions": {
        "customPlotOptions": {},
        "displayType": "table",
        "pivotAggregation": null,
        "pivotColumns": null,
        "xColumns": null,
        "yColumns": null
       },
       "removedWidgets": [],
       "schema": [
        {
         "metadata": "{}",
         "name": "path",
         "type": "\"string\""
        },
        {
         "metadata": "{}",
         "name": "name",
         "type": "\"string\""
        },
        {
         "metadata": "{}",
         "name": "size",
         "type": "\"long\""
        },
        {
         "metadata": "{}",
         "name": "modificationTime",
         "type": "\"long\""
        }
       ],
       "type": "table"
      }
     },
     "output_type": "display_data"
    }
   ],
   "source": [
    "display(dbutils.fs.ls(\"/databricks-datasets/samples/docs/\"))"
   ]
  },
  {
   "cell_type": "code",
   "execution_count": 0,
   "metadata": {
    "application/vnd.databricks.v1+cell": {
     "cellMetadata": {
      "byteLimit": 2048000,
      "rowLimit": 10000
     },
     "inputWidgets": {},
     "nuid": "f9ab867a-e10d-4ca2-bec7-f1544af7c2e8",
     "showTitle": false,
     "title": ""
    }
   },
   "outputs": [],
   "source": [
    "##downloaded a dataset from kaggle that shows the top streamed songs on spotify then uploaded it to the database on databricks"
   ]
  },
  {
   "cell_type": "code",
   "execution_count": 0,
   "metadata": {
    "application/vnd.databricks.v1+cell": {
     "cellMetadata": {
      "byteLimit": 2048000,
      "implicitDf": true,
      "rowLimit": 10000
     },
     "inputWidgets": {},
     "nuid": "65ef0945-e435-4dd3-b9a6-ecd0c27fe6d7",
     "showTitle": false,
     "title": ""
    }
   },
   "outputs": [
    {
     "output_type": "display_data",
     "data": {
      "text/html": [
       "<style scoped>\n",
       "  .table-result-container {\n",
       "    max-height: 300px;\n",
       "    overflow: auto;\n",
       "  }\n",
       "  table, th, td {\n",
       "    border: 1px solid black;\n",
       "    border-collapse: collapse;\n",
       "  }\n",
       "  th, td {\n",
       "    padding: 5px;\n",
       "  }\n",
       "  th {\n",
       "    text-align: left;\n",
       "  }\n",
       "</style><div class='table-result-container'><table class='table-result'><thead style='background-color: white'><tr><th>track_name</th><th>artist(s)_name</th><th>artist_count</th><th>released_year</th><th>released_month</th><th>released_day</th><th>in_spotify_playlists</th><th>in_spotify_charts</th><th>streams</th><th>in_apple_playlists</th><th>in_apple_charts</th><th>in_deezer_playlists</th><th>in_deezer_charts</th><th>in_shazam_charts</th><th>bpm</th><th>key</th><th>mode</th><th>danceability_%</th><th>valence_%</th><th>energy_%</th><th>acousticness_%</th><th>instrumentalness_%</th><th>liveness_%</th><th>speechiness_%</th></tr></thead><tbody><tr><td>Seven (feat. Latto) (Explicit Ver.)</td><td>Latto, Jung Kook</td><td>2</td><td>2023</td><td>7</td><td>14</td><td>553</td><td>147</td><td>141381703</td><td>43</td><td>263</td><td>45</td><td>10</td><td>826</td><td>125</td><td>B</td><td>Major</td><td>80</td><td>89</td><td>83</td><td>31</td><td>0</td><td>8</td><td>4</td></tr><tr><td>LALA</td><td>Myke Towers</td><td>1</td><td>2023</td><td>3</td><td>23</td><td>1474</td><td>48</td><td>133716286</td><td>48</td><td>126</td><td>58</td><td>14</td><td>382</td><td>92</td><td>C#</td><td>Major</td><td>71</td><td>61</td><td>74</td><td>7</td><td>0</td><td>10</td><td>4</td></tr><tr><td>vampire</td><td>Olivia Rodrigo</td><td>1</td><td>2023</td><td>6</td><td>30</td><td>1397</td><td>113</td><td>140003974</td><td>94</td><td>207</td><td>91</td><td>14</td><td>949</td><td>138</td><td>F</td><td>Major</td><td>51</td><td>32</td><td>53</td><td>17</td><td>0</td><td>31</td><td>6</td></tr><tr><td>Cruel Summer</td><td>Taylor Swift</td><td>1</td><td>2019</td><td>8</td><td>23</td><td>7858</td><td>100</td><td>800840817</td><td>116</td><td>207</td><td>125</td><td>12</td><td>548</td><td>170</td><td>A</td><td>Major</td><td>55</td><td>58</td><td>72</td><td>11</td><td>0</td><td>11</td><td>15</td></tr><tr><td>WHERE SHE GOES</td><td>Bad Bunny</td><td>1</td><td>2023</td><td>5</td><td>18</td><td>3133</td><td>50</td><td>303236322</td><td>84</td><td>133</td><td>87</td><td>15</td><td>425</td><td>144</td><td>A</td><td>Minor</td><td>65</td><td>23</td><td>80</td><td>14</td><td>63</td><td>11</td><td>6</td></tr><tr><td>Sprinter</td><td>Dave, Central Cee</td><td>2</td><td>2023</td><td>6</td><td>1</td><td>2186</td><td>91</td><td>183706234</td><td>67</td><td>213</td><td>88</td><td>17</td><td>946</td><td>141</td><td>C#</td><td>Major</td><td>92</td><td>66</td><td>58</td><td>19</td><td>0</td><td>8</td><td>24</td></tr><tr><td>Ella Baila Sola</td><td>Eslabon Armado, Peso Pluma</td><td>2</td><td>2023</td><td>3</td><td>16</td><td>3090</td><td>50</td><td>725980112</td><td>34</td><td>222</td><td>43</td><td>13</td><td>418</td><td>148</td><td>F</td><td>Minor</td><td>67</td><td>83</td><td>76</td><td>48</td><td>0</td><td>8</td><td>3</td></tr><tr><td>Columbia</td><td>Quevedo</td><td>1</td><td>2023</td><td>7</td><td>7</td><td>714</td><td>43</td><td>58149378</td><td>25</td><td>89</td><td>30</td><td>13</td><td>194</td><td>100</td><td>F</td><td>Major</td><td>67</td><td>26</td><td>71</td><td>37</td><td>0</td><td>11</td><td>4</td></tr><tr><td>fukumean</td><td>Gunna</td><td>1</td><td>2023</td><td>5</td><td>15</td><td>1096</td><td>83</td><td>95217315</td><td>60</td><td>210</td><td>48</td><td>11</td><td>953</td><td>130</td><td>C#</td><td>Minor</td><td>85</td><td>22</td><td>62</td><td>12</td><td>0</td><td>28</td><td>9</td></tr><tr><td>La Bebe - Remix</td><td>Peso Pluma, Yng Lvcas</td><td>2</td><td>2023</td><td>3</td><td>17</td><td>2953</td><td>44</td><td>553634067</td><td>49</td><td>110</td><td>66</td><td>13</td><td>339</td><td>170</td><td>D</td><td>Minor</td><td>81</td><td>56</td><td>48</td><td>21</td><td>0</td><td>8</td><td>33</td></tr></tbody></table></div>"
      ]
     },
     "metadata": {
      "application/vnd.databricks.v1+output": {
       "addedWidgets": {},
       "aggData": [],
       "aggError": "",
       "aggOverflow": false,
       "aggSchema": [],
       "aggSeriesLimitReached": false,
       "aggType": "",
       "arguments": {},
       "columnCustomDisplayInfos": {},
       "data": [
        [
         "Seven (feat. Latto) (Explicit Ver.)",
         "Latto, Jung Kook",
         2,
         2023,
         7,
         14,
         553,
         147,
         "141381703",
         43,
         263,
         "45",
         10,
         "826",
         125,
         "B",
         "Major",
         80,
         89,
         83,
         31,
         0,
         8,
         4
        ],
        [
         "LALA",
         "Myke Towers",
         1,
         2023,
         3,
         23,
         1474,
         48,
         "133716286",
         48,
         126,
         "58",
         14,
         "382",
         92,
         "C#",
         "Major",
         71,
         61,
         74,
         7,
         0,
         10,
         4
        ],
        [
         "vampire",
         "Olivia Rodrigo",
         1,
         2023,
         6,
         30,
         1397,
         113,
         "140003974",
         94,
         207,
         "91",
         14,
         "949",
         138,
         "F",
         "Major",
         51,
         32,
         53,
         17,
         0,
         31,
         6
        ],
        [
         "Cruel Summer",
         "Taylor Swift",
         1,
         2019,
         8,
         23,
         7858,
         100,
         "800840817",
         116,
         207,
         "125",
         12,
         "548",
         170,
         "A",
         "Major",
         55,
         58,
         72,
         11,
         0,
         11,
         15
        ],
        [
         "WHERE SHE GOES",
         "Bad Bunny",
         1,
         2023,
         5,
         18,
         3133,
         50,
         "303236322",
         84,
         133,
         "87",
         15,
         "425",
         144,
         "A",
         "Minor",
         65,
         23,
         80,
         14,
         63,
         11,
         6
        ],
        [
         "Sprinter",
         "Dave, Central Cee",
         2,
         2023,
         6,
         1,
         2186,
         91,
         "183706234",
         67,
         213,
         "88",
         17,
         "946",
         141,
         "C#",
         "Major",
         92,
         66,
         58,
         19,
         0,
         8,
         24
        ],
        [
         "Ella Baila Sola",
         "Eslabon Armado, Peso Pluma",
         2,
         2023,
         3,
         16,
         3090,
         50,
         "725980112",
         34,
         222,
         "43",
         13,
         "418",
         148,
         "F",
         "Minor",
         67,
         83,
         76,
         48,
         0,
         8,
         3
        ],
        [
         "Columbia",
         "Quevedo",
         1,
         2023,
         7,
         7,
         714,
         43,
         "58149378",
         25,
         89,
         "30",
         13,
         "194",
         100,
         "F",
         "Major",
         67,
         26,
         71,
         37,
         0,
         11,
         4
        ],
        [
         "fukumean",
         "Gunna",
         1,
         2023,
         5,
         15,
         1096,
         83,
         "95217315",
         60,
         210,
         "48",
         11,
         "953",
         130,
         "C#",
         "Minor",
         85,
         22,
         62,
         12,
         0,
         28,
         9
        ],
        [
         "La Bebe - Remix",
         "Peso Pluma, Yng Lvcas",
         2,
         2023,
         3,
         17,
         2953,
         44,
         "553634067",
         49,
         110,
         "66",
         13,
         "339",
         170,
         "D",
         "Minor",
         81,
         56,
         48,
         21,
         0,
         8,
         33
        ]
       ],
       "datasetInfos": [],
       "dbfsResultPath": null,
       "isJsonSchema": true,
       "metadata": {},
       "overflow": false,
       "plotOptions": {
        "customPlotOptions": {},
        "displayType": "table",
        "pivotAggregation": null,
        "pivotColumns": null,
        "xColumns": null,
        "yColumns": null
       },
       "removedWidgets": [],
       "schema": [
        {
         "metadata": "{}",
         "name": "track_name",
         "type": "\"string\""
        },
        {
         "metadata": "{}",
         "name": "artist(s)_name",
         "type": "\"string\""
        },
        {
         "metadata": "{}",
         "name": "artist_count",
         "type": "\"integer\""
        },
        {
         "metadata": "{}",
         "name": "released_year",
         "type": "\"integer\""
        },
        {
         "metadata": "{}",
         "name": "released_month",
         "type": "\"integer\""
        },
        {
         "metadata": "{}",
         "name": "released_day",
         "type": "\"integer\""
        },
        {
         "metadata": "{}",
         "name": "in_spotify_playlists",
         "type": "\"integer\""
        },
        {
         "metadata": "{}",
         "name": "in_spotify_charts",
         "type": "\"integer\""
        },
        {
         "metadata": "{}",
         "name": "streams",
         "type": "\"string\""
        },
        {
         "metadata": "{}",
         "name": "in_apple_playlists",
         "type": "\"integer\""
        },
        {
         "metadata": "{}",
         "name": "in_apple_charts",
         "type": "\"integer\""
        },
        {
         "metadata": "{}",
         "name": "in_deezer_playlists",
         "type": "\"string\""
        },
        {
         "metadata": "{}",
         "name": "in_deezer_charts",
         "type": "\"integer\""
        },
        {
         "metadata": "{}",
         "name": "in_shazam_charts",
         "type": "\"string\""
        },
        {
         "metadata": "{}",
         "name": "bpm",
         "type": "\"integer\""
        },
        {
         "metadata": "{}",
         "name": "key",
         "type": "\"string\""
        },
        {
         "metadata": "{}",
         "name": "mode",
         "type": "\"string\""
        },
        {
         "metadata": "{}",
         "name": "danceability_%",
         "type": "\"integer\""
        },
        {
         "metadata": "{}",
         "name": "valence_%",
         "type": "\"integer\""
        },
        {
         "metadata": "{}",
         "name": "energy_%",
         "type": "\"integer\""
        },
        {
         "metadata": "{}",
         "name": "acousticness_%",
         "type": "\"integer\""
        },
        {
         "metadata": "{}",
         "name": "instrumentalness_%",
         "type": "\"integer\""
        },
        {
         "metadata": "{}",
         "name": "liveness_%",
         "type": "\"integer\""
        },
        {
         "metadata": "{}",
         "name": "speechiness_%",
         "type": "\"integer\""
        }
       ],
       "type": "table"
      }
     },
     "output_type": "display_data"
    }
   ],
   "source": [
    "%sql\n",
    "select *\n",
    "from spotify\n",
    "limit 10\n"
   ]
  },
  {
   "cell_type": "code",
   "execution_count": 0,
   "metadata": {
    "application/vnd.databricks.v1+cell": {
     "cellMetadata": {
      "byteLimit": 2048000,
      "implicitDf": true,
      "rowLimit": 10000
     },
     "inputWidgets": {},
     "nuid": "f30a55c7-5768-4f3a-b543-98cc611e7576",
     "showTitle": false,
     "title": ""
    }
   },
   "outputs": [
    {
     "output_type": "display_data",
     "data": {
      "text/html": [
       "<style scoped>\n",
       "  .table-result-container {\n",
       "    max-height: 300px;\n",
       "    overflow: auto;\n",
       "  }\n",
       "  table, th, td {\n",
       "    border: 1px solid black;\n",
       "    border-collapse: collapse;\n",
       "  }\n",
       "  th, td {\n",
       "    padding: 5px;\n",
       "  }\n",
       "  th {\n",
       "    text-align: left;\n",
       "  }\n",
       "</style><div class='table-result-container'><table class='table-result'><thead style='background-color: white'><tr><th>track_name</th><th>artist(s)_name</th><th>artist_count</th><th>released_year</th><th>released_month</th><th>released_day</th><th>in_spotify_playlists</th><th>in_spotify_charts</th><th>streams</th><th>in_apple_playlists</th><th>in_apple_charts</th><th>in_deezer_playlists</th><th>in_deezer_charts</th><th>in_shazam_charts</th><th>bpm</th><th>key</th><th>mode</th><th>danceability_%</th><th>valence_%</th><th>energy_%</th><th>acousticness_%</th><th>instrumentalness_%</th><th>liveness_%</th><th>speechiness_%</th></tr></thead><tbody><tr><td>Love Grows (Where My Rosemary Goes)</td><td>Edison Lighthouse</td><td>1</td><td>1970</td><td>1</td><td>1</td><td>2877</td><td>0</td><td>BPM110KeyAModeMajorDanceability53Valence75Energy69Acousticness7Instrumentalness0Liveness17Speechiness3</td><td>16</td><td>0</td><td>54</td><td>0</td><td>0</td><td>110</td><td>A</td><td>Major</td><td>53</td><td>75</td><td>69</td><td>7</td><td>0</td><td>17</td><td>3</td></tr><tr><td>Anti-Hero</td><td>Taylor Swift</td><td>1</td><td>2022</td><td>10</td><td>21</td><td>9082</td><td>56</td><td>999748277</td><td>242</td><td>142</td><td>165</td><td>9</td><td>310</td><td>97</td><td>E</td><td>Major</td><td>64</td><td>51</td><td>63</td><td>12</td><td>0</td><td>19</td><td>5</td></tr><tr><td>Arcade</td><td>Duncan Laurence</td><td>1</td><td>2019</td><td>3</td><td>7</td><td>6646</td><td>0</td><td>991336132</td><td>107</td><td>47</td><td>584</td><td>1</td><td>null</td><td>72</td><td>A</td><td>Minor</td><td>45</td><td>27</td><td>33</td><td>82</td><td>0</td><td>14</td><td>4</td></tr><tr><td>Glimpse of Us</td><td>Joji</td><td>1</td><td>2022</td><td>6</td><td>10</td><td>6330</td><td>6</td><td>988515741</td><td>109</td><td>42</td><td>158</td><td>3</td><td>31</td><td>170</td><td>G#</td><td>Major</td><td>44</td><td>27</td><td>32</td><td>89</td><td>0</td><td>14</td><td>5</td></tr><tr><td>Seek & Destroy</td><td>SZA</td><td>1</td><td>2022</td><td>12</td><td>9</td><td>1007</td><td>0</td><td>98709329</td><td>5</td><td>31</td><td>1</td><td>0</td><td>0</td><td>152</td><td>C#</td><td>Major</td><td>65</td><td>35</td><td>65</td><td>44</td><td>18</td><td>21</td><td>7</td></tr></tbody></table></div>"
      ]
     },
     "metadata": {
      "application/vnd.databricks.v1+output": {
       "addedWidgets": {},
       "aggData": [],
       "aggError": "",
       "aggOverflow": false,
       "aggSchema": [],
       "aggSeriesLimitReached": false,
       "aggType": "",
       "arguments": {},
       "columnCustomDisplayInfos": {},
       "data": [
        [
         "Love Grows (Where My Rosemary Goes)",
         "Edison Lighthouse",
         1,
         1970,
         1,
         1,
         2877,
         0,
         "BPM110KeyAModeMajorDanceability53Valence75Energy69Acousticness7Instrumentalness0Liveness17Speechiness3",
         16,
         0,
         "54",
         0,
         "0",
         110,
         "A",
         "Major",
         53,
         75,
         69,
         7,
         0,
         17,
         3
        ],
        [
         "Anti-Hero",
         "Taylor Swift",
         1,
         2022,
         10,
         21,
         9082,
         56,
         "999748277",
         242,
         142,
         "165",
         9,
         "310",
         97,
         "E",
         "Major",
         64,
         51,
         63,
         12,
         0,
         19,
         5
        ],
        [
         "Arcade",
         "Duncan Laurence",
         1,
         2019,
         3,
         7,
         6646,
         0,
         "991336132",
         107,
         47,
         "584",
         1,
         null,
         72,
         "A",
         "Minor",
         45,
         27,
         33,
         82,
         0,
         14,
         4
        ],
        [
         "Glimpse of Us",
         "Joji",
         1,
         2022,
         6,
         10,
         6330,
         6,
         "988515741",
         109,
         42,
         "158",
         3,
         "31",
         170,
         "G#",
         "Major",
         44,
         27,
         32,
         89,
         0,
         14,
         5
        ],
        [
         "Seek & Destroy",
         "SZA",
         1,
         2022,
         12,
         9,
         1007,
         0,
         "98709329",
         5,
         31,
         "1",
         0,
         "0",
         152,
         "C#",
         "Major",
         65,
         35,
         65,
         44,
         18,
         21,
         7
        ]
       ],
       "datasetInfos": [],
       "dbfsResultPath": null,
       "isJsonSchema": true,
       "metadata": {},
       "overflow": false,
       "plotOptions": {
        "customPlotOptions": {},
        "displayType": "table",
        "pivotAggregation": null,
        "pivotColumns": null,
        "xColumns": null,
        "yColumns": null
       },
       "removedWidgets": [],
       "schema": [
        {
         "metadata": "{}",
         "name": "track_name",
         "type": "\"string\""
        },
        {
         "metadata": "{}",
         "name": "artist(s)_name",
         "type": "\"string\""
        },
        {
         "metadata": "{}",
         "name": "artist_count",
         "type": "\"integer\""
        },
        {
         "metadata": "{}",
         "name": "released_year",
         "type": "\"integer\""
        },
        {
         "metadata": "{}",
         "name": "released_month",
         "type": "\"integer\""
        },
        {
         "metadata": "{}",
         "name": "released_day",
         "type": "\"integer\""
        },
        {
         "metadata": "{}",
         "name": "in_spotify_playlists",
         "type": "\"integer\""
        },
        {
         "metadata": "{}",
         "name": "in_spotify_charts",
         "type": "\"integer\""
        },
        {
         "metadata": "{}",
         "name": "streams",
         "type": "\"string\""
        },
        {
         "metadata": "{}",
         "name": "in_apple_playlists",
         "type": "\"integer\""
        },
        {
         "metadata": "{}",
         "name": "in_apple_charts",
         "type": "\"integer\""
        },
        {
         "metadata": "{}",
         "name": "in_deezer_playlists",
         "type": "\"string\""
        },
        {
         "metadata": "{}",
         "name": "in_deezer_charts",
         "type": "\"integer\""
        },
        {
         "metadata": "{}",
         "name": "in_shazam_charts",
         "type": "\"string\""
        },
        {
         "metadata": "{}",
         "name": "bpm",
         "type": "\"integer\""
        },
        {
         "metadata": "{}",
         "name": "key",
         "type": "\"string\""
        },
        {
         "metadata": "{}",
         "name": "mode",
         "type": "\"string\""
        },
        {
         "metadata": "{}",
         "name": "danceability_%",
         "type": "\"integer\""
        },
        {
         "metadata": "{}",
         "name": "valence_%",
         "type": "\"integer\""
        },
        {
         "metadata": "{}",
         "name": "energy_%",
         "type": "\"integer\""
        },
        {
         "metadata": "{}",
         "name": "acousticness_%",
         "type": "\"integer\""
        },
        {
         "metadata": "{}",
         "name": "instrumentalness_%",
         "type": "\"integer\""
        },
        {
         "metadata": "{}",
         "name": "liveness_%",
         "type": "\"integer\""
        },
        {
         "metadata": "{}",
         "name": "speechiness_%",
         "type": "\"integer\""
        }
       ],
       "type": "table"
      }
     },
     "output_type": "display_data"
    }
   ],
   "source": [
    "%sql\n",
    "select *\n",
    "from spotify\n",
    "order by streams desc \n",
    "limit 5"
   ]
  },
  {
   "cell_type": "code",
   "execution_count": 0,
   "metadata": {
    "application/vnd.databricks.v1+cell": {
     "cellMetadata": {
      "byteLimit": 2048000,
      "rowLimit": 10000
     },
     "inputWidgets": {},
     "nuid": "54aafba3-0080-4683-a2e4-92078f9d3d2a",
     "showTitle": false,
     "title": ""
    }
   },
   "outputs": [],
   "source": [
    "##Finding the top 5 streamed songs that were released in 2023"
   ]
  },
  {
   "cell_type": "code",
   "execution_count": 0,
   "metadata": {
    "application/vnd.databricks.v1+cell": {
     "cellMetadata": {
      "byteLimit": 2048000,
      "implicitDf": true,
      "rowLimit": 10000
     },
     "inputWidgets": {},
     "nuid": "2dcb8db2-6cc2-4151-b7ee-0283d43a64f4",
     "showTitle": false,
     "title": ""
    }
   },
   "outputs": [
    {
     "output_type": "display_data",
     "data": {
      "text/html": [
       "<style scoped>\n",
       "  .table-result-container {\n",
       "    max-height: 300px;\n",
       "    overflow: auto;\n",
       "  }\n",
       "  table, th, td {\n",
       "    border: 1px solid black;\n",
       "    border-collapse: collapse;\n",
       "  }\n",
       "  th, td {\n",
       "    padding: 5px;\n",
       "  }\n",
       "  th {\n",
       "    text-align: left;\n",
       "  }\n",
       "</style><div class='table-result-container'><table class='table-result'><thead style='background-color: white'><tr><th>track_name</th><th>artist(s)_name</th><th>artist_count</th><th>released_year</th><th>released_month</th><th>released_day</th><th>in_spotify_playlists</th><th>in_spotify_charts</th><th>streams</th><th>in_apple_playlists</th><th>in_apple_charts</th><th>in_deezer_playlists</th><th>in_deezer_charts</th><th>in_shazam_charts</th><th>bpm</th><th>key</th><th>mode</th><th>danceability_%</th><th>valence_%</th><th>energy_%</th><th>acousticness_%</th><th>instrumentalness_%</th><th>liveness_%</th><th>speechiness_%</th></tr></thead><tbody><tr><td>Queencard</td><td>(G)I-DLE</td><td>1</td><td>2023</td><td>5</td><td>15</td><td>451</td><td>33</td><td>96273746</td><td>10</td><td>126</td><td>7</td><td>0</td><td>148</td><td>130</td><td>E</td><td>Minor</td><td>82</td><td>69</td><td>83</td><td>3</td><td>0</td><td>27</td><td>5</td></tr><tr><td>People Pt.2 (feat. IU)</td><td>IU, Agust D</td><td>2</td><td>2023</td><td>4</td><td>7</td><td>209</td><td>4</td><td>95816024</td><td>4</td><td>45</td><td>11</td><td>2</td><td>24</td><td>89</td><td>G</td><td>Minor</td><td>73</td><td>44</td><td>57</td><td>39</td><td>0</td><td>32</td><td>6</td></tr><tr><td>fukumean</td><td>Gunna</td><td>1</td><td>2023</td><td>5</td><td>15</td><td>1096</td><td>83</td><td>95217315</td><td>60</td><td>210</td><td>48</td><td>11</td><td>953</td><td>130</td><td>C#</td><td>Minor</td><td>85</td><td>22</td><td>62</td><td>12</td><td>0</td><td>28</td><td>9</td></tr><tr><td>What It Is (Solo Version)</td><td>Doechii</td><td>1</td><td>2023</td><td>3</td><td>17</td><td>804</td><td>25</td><td>95131998</td><td>29</td><td>76</td><td>24</td><td>0</td><td>162</td><td>172</td><td>C#</td><td>Minor</td><td>74</td><td>76</td><td>76</td><td>6</td><td>0</td><td>10</td><td>9</td></tr><tr><td>Bye</td><td>Peso Pluma</td><td>1</td><td>2023</td><td>5</td><td>26</td><td>324</td><td>14</td><td>95053634</td><td>13</td><td>110</td><td>8</td><td>2</td><td>60</td><td>122</td><td>null</td><td>Major</td><td>78</td><td>70</td><td>81</td><td>57</td><td>0</td><td>10</td><td>5</td></tr></tbody></table></div>"
      ]
     },
     "metadata": {
      "application/vnd.databricks.v1+output": {
       "addedWidgets": {},
       "aggData": [],
       "aggError": "",
       "aggOverflow": false,
       "aggSchema": [],
       "aggSeriesLimitReached": false,
       "aggType": "",
       "arguments": {},
       "columnCustomDisplayInfos": {},
       "data": [
        [
         "Queencard",
         "(G)I-DLE",
         1,
         2023,
         5,
         15,
         451,
         33,
         "96273746",
         10,
         126,
         "7",
         0,
         "148",
         130,
         "E",
         "Minor",
         82,
         69,
         83,
         3,
         0,
         27,
         5
        ],
        [
         "People Pt.2 (feat. IU)",
         "IU, Agust D",
         2,
         2023,
         4,
         7,
         209,
         4,
         "95816024",
         4,
         45,
         "11",
         2,
         "24",
         89,
         "G",
         "Minor",
         73,
         44,
         57,
         39,
         0,
         32,
         6
        ],
        [
         "fukumean",
         "Gunna",
         1,
         2023,
         5,
         15,
         1096,
         83,
         "95217315",
         60,
         210,
         "48",
         11,
         "953",
         130,
         "C#",
         "Minor",
         85,
         22,
         62,
         12,
         0,
         28,
         9
        ],
        [
         "What It Is (Solo Version)",
         "Doechii",
         1,
         2023,
         3,
         17,
         804,
         25,
         "95131998",
         29,
         76,
         "24",
         0,
         "162",
         172,
         "C#",
         "Minor",
         74,
         76,
         76,
         6,
         0,
         10,
         9
        ],
        [
         "Bye",
         "Peso Pluma",
         1,
         2023,
         5,
         26,
         324,
         14,
         "95053634",
         13,
         110,
         "8",
         2,
         "60",
         122,
         null,
         "Major",
         78,
         70,
         81,
         57,
         0,
         10,
         5
        ]
       ],
       "datasetInfos": [],
       "dbfsResultPath": null,
       "isJsonSchema": true,
       "metadata": {},
       "overflow": false,
       "plotOptions": {
        "customPlotOptions": {},
        "displayType": "table",
        "pivotAggregation": null,
        "pivotColumns": null,
        "xColumns": null,
        "yColumns": null
       },
       "removedWidgets": [],
       "schema": [
        {
         "metadata": "{}",
         "name": "track_name",
         "type": "\"string\""
        },
        {
         "metadata": "{}",
         "name": "artist(s)_name",
         "type": "\"string\""
        },
        {
         "metadata": "{}",
         "name": "artist_count",
         "type": "\"integer\""
        },
        {
         "metadata": "{}",
         "name": "released_year",
         "type": "\"integer\""
        },
        {
         "metadata": "{}",
         "name": "released_month",
         "type": "\"integer\""
        },
        {
         "metadata": "{}",
         "name": "released_day",
         "type": "\"integer\""
        },
        {
         "metadata": "{}",
         "name": "in_spotify_playlists",
         "type": "\"integer\""
        },
        {
         "metadata": "{}",
         "name": "in_spotify_charts",
         "type": "\"integer\""
        },
        {
         "metadata": "{}",
         "name": "streams",
         "type": "\"string\""
        },
        {
         "metadata": "{}",
         "name": "in_apple_playlists",
         "type": "\"integer\""
        },
        {
         "metadata": "{}",
         "name": "in_apple_charts",
         "type": "\"integer\""
        },
        {
         "metadata": "{}",
         "name": "in_deezer_playlists",
         "type": "\"string\""
        },
        {
         "metadata": "{}",
         "name": "in_deezer_charts",
         "type": "\"integer\""
        },
        {
         "metadata": "{}",
         "name": "in_shazam_charts",
         "type": "\"string\""
        },
        {
         "metadata": "{}",
         "name": "bpm",
         "type": "\"integer\""
        },
        {
         "metadata": "{}",
         "name": "key",
         "type": "\"string\""
        },
        {
         "metadata": "{}",
         "name": "mode",
         "type": "\"string\""
        },
        {
         "metadata": "{}",
         "name": "danceability_%",
         "type": "\"integer\""
        },
        {
         "metadata": "{}",
         "name": "valence_%",
         "type": "\"integer\""
        },
        {
         "metadata": "{}",
         "name": "energy_%",
         "type": "\"integer\""
        },
        {
         "metadata": "{}",
         "name": "acousticness_%",
         "type": "\"integer\""
        },
        {
         "metadata": "{}",
         "name": "instrumentalness_%",
         "type": "\"integer\""
        },
        {
         "metadata": "{}",
         "name": "liveness_%",
         "type": "\"integer\""
        },
        {
         "metadata": "{}",
         "name": "speechiness_%",
         "type": "\"integer\""
        }
       ],
       "type": "table"
      }
     },
     "output_type": "display_data"
    }
   ],
   "source": [
    "%sql\n",
    "select *\n",
    "from spotify\n",
    "where in_spotify_charts > 0 and released_year = 2023\n",
    "order by streams desc , in_spotify_charts \n",
    "limit 5"
   ]
  },
  {
   "cell_type": "code",
   "execution_count": 0,
   "metadata": {
    "application/vnd.databricks.v1+cell": {
     "cellMetadata": {
      "byteLimit": 2048000,
      "rowLimit": 10000
     },
     "inputWidgets": {},
     "nuid": "2bd38195-c38b-45b7-a98b-d235970cff9b",
     "showTitle": false,
     "title": ""
    }
   },
   "outputs": [],
   "source": [
    "##Finding the most common song in spotify playlists"
   ]
  },
  {
   "cell_type": "code",
   "execution_count": 0,
   "metadata": {
    "application/vnd.databricks.v1+cell": {
     "cellMetadata": {
      "byteLimit": 2048000,
      "implicitDf": true,
      "rowLimit": 10000
     },
     "inputWidgets": {},
     "nuid": "bbd3f833-d628-4ec0-88ab-82c24f6f8b98",
     "showTitle": false,
     "title": ""
    }
   },
   "outputs": [
    {
     "output_type": "display_data",
     "data": {
      "text/html": [
       "<style scoped>\n",
       "  .table-result-container {\n",
       "    max-height: 300px;\n",
       "    overflow: auto;\n",
       "  }\n",
       "  table, th, td {\n",
       "    border: 1px solid black;\n",
       "    border-collapse: collapse;\n",
       "  }\n",
       "  th, td {\n",
       "    padding: 5px;\n",
       "  }\n",
       "  th {\n",
       "    text-align: left;\n",
       "  }\n",
       "</style><div class='table-result-container'><table class='table-result'><thead style='background-color: white'><tr><th>track_name</th><th>artist(s)_name</th><th>artist_count</th><th>released_year</th><th>released_month</th><th>released_day</th><th>in_spotify_playlists</th><th>in_spotify_charts</th><th>streams</th><th>in_apple_playlists</th><th>in_apple_charts</th><th>in_deezer_playlists</th><th>in_deezer_charts</th><th>in_shazam_charts</th><th>bpm</th><th>key</th><th>mode</th><th>danceability_%</th><th>valence_%</th><th>energy_%</th><th>acousticness_%</th><th>instrumentalness_%</th><th>liveness_%</th><th>speechiness_%</th></tr></thead><tbody><tr><td>Flowers</td><td>Miley Cyrus</td><td>1</td><td>2023</td><td>1</td><td>12</td><td>12211</td><td>115</td><td>1316855716</td><td>300</td><td>215</td><td>745</td><td>58</td><td>1,021</td><td>118</td><td>null</td><td>Major</td><td>71</td><td>65</td><td>68</td><td>6</td><td>0</td><td>3</td><td>7</td></tr><tr><td>Miracle (with Ellie Goulding)</td><td>Calvin Harris, Ellie Goulding</td><td>2</td><td>2023</td><td>3</td><td>10</td><td>5120</td><td>48</td><td>211050784</td><td>161</td><td>115</td><td>246</td><td>9</td><td>638</td><td>143</td><td>A</td><td>Major</td><td>64</td><td>31</td><td>87</td><td>4</td><td>4</td><td>8</td><td>4</td></tr><tr><td>Boy's a liar Pt. 2</td><td>PinkPantheress, Ice Spice</td><td>2</td><td>2023</td><td>2</td><td>3</td><td>5184</td><td>41</td><td>156338624</td><td>154</td><td>84</td><td>102</td><td>14</td><td>37</td><td>133</td><td>F</td><td>Major</td><td>70</td><td>86</td><td>81</td><td>25</td><td>0</td><td>25</td><td>5</td></tr><tr><td>Baby Don't Hurt Me</td><td>David Guetta, Anne-Marie, Coi Leray</td><td>3</td><td>2023</td><td>4</td><td>6</td><td>4277</td><td>66</td><td>177740666</td><td>145</td><td>111</td><td>213</td><td>11</td><td>810</td><td>128</td><td>G</td><td>Major</td><td>60</td><td>23</td><td>91</td><td>0</td><td>0</td><td>12</td><td>3</td></tr><tr><td>Shakira: Bzrp Music Sessions, Vol. 53</td><td>Shakira, Bizarrap</td><td>2</td><td>2023</td><td>1</td><td>11</td><td>5724</td><td>44</td><td>721975598</td><td>119</td><td>108</td><td>254</td><td>29</td><td>22</td><td>122</td><td>D</td><td>Minor</td><td>78</td><td>50</td><td>63</td><td>27</td><td>0</td><td>9</td><td>5</td></tr></tbody></table></div>"
      ]
     },
     "metadata": {
      "application/vnd.databricks.v1+output": {
       "addedWidgets": {},
       "aggData": [],
       "aggError": "",
       "aggOverflow": false,
       "aggSchema": [],
       "aggSeriesLimitReached": false,
       "aggType": "",
       "arguments": {},
       "columnCustomDisplayInfos": {},
       "data": [
        [
         "Flowers",
         "Miley Cyrus",
         1,
         2023,
         1,
         12,
         12211,
         115,
         "1316855716",
         300,
         215,
         "745",
         58,
         "1,021",
         118,
         null,
         "Major",
         71,
         65,
         68,
         6,
         0,
         3,
         7
        ],
        [
         "Miracle (with Ellie Goulding)",
         "Calvin Harris, Ellie Goulding",
         2,
         2023,
         3,
         10,
         5120,
         48,
         "211050784",
         161,
         115,
         "246",
         9,
         "638",
         143,
         "A",
         "Major",
         64,
         31,
         87,
         4,
         4,
         8,
         4
        ],
        [
         "Boy's a liar Pt. 2",
         "PinkPantheress, Ice Spice",
         2,
         2023,
         2,
         3,
         5184,
         41,
         "156338624",
         154,
         84,
         "102",
         14,
         "37",
         133,
         "F",
         "Major",
         70,
         86,
         81,
         25,
         0,
         25,
         5
        ],
        [
         "Baby Don't Hurt Me",
         "David Guetta, Anne-Marie, Coi Leray",
         3,
         2023,
         4,
         6,
         4277,
         66,
         "177740666",
         145,
         111,
         "213",
         11,
         "810",
         128,
         "G",
         "Major",
         60,
         23,
         91,
         0,
         0,
         12,
         3
        ],
        [
         "Shakira: Bzrp Music Sessions, Vol. 53",
         "Shakira, Bizarrap",
         2,
         2023,
         1,
         11,
         5724,
         44,
         "721975598",
         119,
         108,
         "254",
         29,
         "22",
         122,
         "D",
         "Minor",
         78,
         50,
         63,
         27,
         0,
         9,
         5
        ]
       ],
       "datasetInfos": [],
       "dbfsResultPath": null,
       "isJsonSchema": true,
       "metadata": {},
       "overflow": false,
       "plotOptions": {
        "customPlotOptions": {},
        "displayType": "table",
        "pivotAggregation": null,
        "pivotColumns": null,
        "xColumns": null,
        "yColumns": null
       },
       "removedWidgets": [],
       "schema": [
        {
         "metadata": "{}",
         "name": "track_name",
         "type": "\"string\""
        },
        {
         "metadata": "{}",
         "name": "artist(s)_name",
         "type": "\"string\""
        },
        {
         "metadata": "{}",
         "name": "artist_count",
         "type": "\"integer\""
        },
        {
         "metadata": "{}",
         "name": "released_year",
         "type": "\"integer\""
        },
        {
         "metadata": "{}",
         "name": "released_month",
         "type": "\"integer\""
        },
        {
         "metadata": "{}",
         "name": "released_day",
         "type": "\"integer\""
        },
        {
         "metadata": "{}",
         "name": "in_spotify_playlists",
         "type": "\"integer\""
        },
        {
         "metadata": "{}",
         "name": "in_spotify_charts",
         "type": "\"integer\""
        },
        {
         "metadata": "{}",
         "name": "streams",
         "type": "\"string\""
        },
        {
         "metadata": "{}",
         "name": "in_apple_playlists",
         "type": "\"integer\""
        },
        {
         "metadata": "{}",
         "name": "in_apple_charts",
         "type": "\"integer\""
        },
        {
         "metadata": "{}",
         "name": "in_deezer_playlists",
         "type": "\"string\""
        },
        {
         "metadata": "{}",
         "name": "in_deezer_charts",
         "type": "\"integer\""
        },
        {
         "metadata": "{}",
         "name": "in_shazam_charts",
         "type": "\"string\""
        },
        {
         "metadata": "{}",
         "name": "bpm",
         "type": "\"integer\""
        },
        {
         "metadata": "{}",
         "name": "key",
         "type": "\"string\""
        },
        {
         "metadata": "{}",
         "name": "mode",
         "type": "\"string\""
        },
        {
         "metadata": "{}",
         "name": "danceability_%",
         "type": "\"integer\""
        },
        {
         "metadata": "{}",
         "name": "valence_%",
         "type": "\"integer\""
        },
        {
         "metadata": "{}",
         "name": "energy_%",
         "type": "\"integer\""
        },
        {
         "metadata": "{}",
         "name": "acousticness_%",
         "type": "\"integer\""
        },
        {
         "metadata": "{}",
         "name": "instrumentalness_%",
         "type": "\"integer\""
        },
        {
         "metadata": "{}",
         "name": "liveness_%",
         "type": "\"integer\""
        },
        {
         "metadata": "{}",
         "name": "speechiness_%",
         "type": "\"integer\""
        }
       ],
       "type": "table"
      }
     },
     "output_type": "display_data"
    }
   ],
   "source": [
    "%sql\n",
    "select *\n",
    "from spotify\n",
    "where in_spotify_charts > 0 and released_year = 2023 \n",
    "order by in_apple_playlists desc \n",
    "limit 5"
   ]
  },
  {
   "cell_type": "code",
   "execution_count": 0,
   "metadata": {
    "application/vnd.databricks.v1+cell": {
     "cellMetadata": {
      "byteLimit": 2048000,
      "rowLimit": 10000
     },
     "inputWidgets": {},
     "nuid": "cddf0ae9-b7c6-44a7-986f-0e334dd24f31",
     "showTitle": false,
     "title": ""
    }
   },
   "outputs": [],
   "source": [
    "##finding the best songs to dance to"
   ]
  },
  {
   "cell_type": "code",
   "execution_count": 0,
   "metadata": {
    "application/vnd.databricks.v1+cell": {
     "cellMetadata": {
      "byteLimit": 2048000,
      "implicitDf": true,
      "rowLimit": 10000
     },
     "inputWidgets": {},
     "nuid": "81d4bafd-591a-4b3c-bf39-1771c5dcdfc0",
     "showTitle": false,
     "title": ""
    }
   },
   "outputs": [
    {
     "output_type": "display_data",
     "data": {
      "text/html": [
       "<style scoped>\n",
       "  .table-result-container {\n",
       "    max-height: 300px;\n",
       "    overflow: auto;\n",
       "  }\n",
       "  table, th, td {\n",
       "    border: 1px solid black;\n",
       "    border-collapse: collapse;\n",
       "  }\n",
       "  th, td {\n",
       "    padding: 5px;\n",
       "  }\n",
       "  th {\n",
       "    text-align: left;\n",
       "  }\n",
       "</style><div class='table-result-container'><table class='table-result'><thead style='background-color: white'><tr><th>track_name</th><th>artist(s)_name</th><th>artist_count</th><th>released_year</th><th>released_month</th><th>released_day</th><th>in_spotify_playlists</th><th>in_spotify_charts</th><th>streams</th><th>in_apple_playlists</th><th>in_apple_charts</th><th>in_deezer_playlists</th><th>in_deezer_charts</th><th>in_shazam_charts</th><th>bpm</th><th>key</th><th>mode</th><th>danceability_%</th><th>valence_%</th><th>energy_%</th><th>acousticness_%</th><th>instrumentalness_%</th><th>liveness_%</th><th>speechiness_%</th></tr></thead><tbody><tr><td>Gol Bolinha, Gol Quadrado 2</td><td>Mc Pedrinho, DJ 900</td><td>2</td><td>2023</td><td>6</td><td>1</td><td>293</td><td>8</td><td>11956641</td><td>5</td><td>2</td><td>30</td><td>2</td><td>66</td><td>133</td><td>B</td><td>Minor</td><td>93</td><td>68</td><td>65</td><td>42</td><td>0</td><td>12</td><td>25</td></tr><tr><td>Shorty Party</td><td>Cartel De Santa, La Kelly</td><td>2</td><td>2023</td><td>3</td><td>4</td><td>432</td><td>12</td><td>162887075</td><td>8</td><td>14</td><td>12</td><td>2</td><td>33</td><td>96</td><td>D</td><td>Major</td><td>93</td><td>47</td><td>47</td><td>33</td><td>0</td><td>10</td><td>36</td></tr><tr><td>AMARGURA</td><td>Karol G</td><td>1</td><td>2023</td><td>2</td><td>24</td><td>1133</td><td>39</td><td>153372011</td><td>14</td><td>71</td><td>23</td><td>10</td><td>176</td><td>107</td><td>F#</td><td>Minor</td><td>92</td><td>55</td><td>70</td><td>18</td><td>0</td><td>15</td><td>7</td></tr><tr><td>Sprinter</td><td>Dave, Central Cee</td><td>2</td><td>2023</td><td>6</td><td>1</td><td>2186</td><td>91</td><td>183706234</td><td>67</td><td>213</td><td>88</td><td>17</td><td>946</td><td>141</td><td>C#</td><td>Major</td><td>92</td><td>66</td><td>58</td><td>19</td><td>0</td><td>8</td><td>24</td></tr><tr><td>Cupido</td><td>Tini</td><td>1</td><td>2023</td><td>2</td><td>14</td><td>1240</td><td>24</td><td>217672943</td><td>51</td><td>29</td><td>63</td><td>4</td><td>54</td><td>120</td><td>A</td><td>Major</td><td>91</td><td>63</td><td>58</td><td>52</td><td>0</td><td>31</td><td>22</td></tr></tbody></table></div>"
      ]
     },
     "metadata": {
      "application/vnd.databricks.v1+output": {
       "addedWidgets": {},
       "aggData": [],
       "aggError": "",
       "aggOverflow": false,
       "aggSchema": [],
       "aggSeriesLimitReached": false,
       "aggType": "",
       "arguments": {},
       "columnCustomDisplayInfos": {},
       "data": [
        [
         "Gol Bolinha, Gol Quadrado 2",
         "Mc Pedrinho, DJ 900",
         2,
         2023,
         6,
         1,
         293,
         8,
         "11956641",
         5,
         2,
         "30",
         2,
         "66",
         133,
         "B",
         "Minor",
         93,
         68,
         65,
         42,
         0,
         12,
         25
        ],
        [
         "Shorty Party",
         "Cartel De Santa, La Kelly",
         2,
         2023,
         3,
         4,
         432,
         12,
         "162887075",
         8,
         14,
         "12",
         2,
         "33",
         96,
         "D",
         "Major",
         93,
         47,
         47,
         33,
         0,
         10,
         36
        ],
        [
         "AMARGURA",
         "Karol G",
         1,
         2023,
         2,
         24,
         1133,
         39,
         "153372011",
         14,
         71,
         "23",
         10,
         "176",
         107,
         "F#",
         "Minor",
         92,
         55,
         70,
         18,
         0,
         15,
         7
        ],
        [
         "Sprinter",
         "Dave, Central Cee",
         2,
         2023,
         6,
         1,
         2186,
         91,
         "183706234",
         67,
         213,
         "88",
         17,
         "946",
         141,
         "C#",
         "Major",
         92,
         66,
         58,
         19,
         0,
         8,
         24
        ],
        [
         "Cupido",
         "Tini",
         1,
         2023,
         2,
         14,
         1240,
         24,
         "217672943",
         51,
         29,
         "63",
         4,
         "54",
         120,
         "A",
         "Major",
         91,
         63,
         58,
         52,
         0,
         31,
         22
        ]
       ],
       "datasetInfos": [],
       "dbfsResultPath": null,
       "isJsonSchema": true,
       "metadata": {},
       "overflow": false,
       "plotOptions": {
        "customPlotOptions": {},
        "displayType": "table",
        "pivotAggregation": null,
        "pivotColumns": null,
        "xColumns": null,
        "yColumns": null
       },
       "removedWidgets": [],
       "schema": [
        {
         "metadata": "{}",
         "name": "track_name",
         "type": "\"string\""
        },
        {
         "metadata": "{}",
         "name": "artist(s)_name",
         "type": "\"string\""
        },
        {
         "metadata": "{}",
         "name": "artist_count",
         "type": "\"integer\""
        },
        {
         "metadata": "{}",
         "name": "released_year",
         "type": "\"integer\""
        },
        {
         "metadata": "{}",
         "name": "released_month",
         "type": "\"integer\""
        },
        {
         "metadata": "{}",
         "name": "released_day",
         "type": "\"integer\""
        },
        {
         "metadata": "{}",
         "name": "in_spotify_playlists",
         "type": "\"integer\""
        },
        {
         "metadata": "{}",
         "name": "in_spotify_charts",
         "type": "\"integer\""
        },
        {
         "metadata": "{}",
         "name": "streams",
         "type": "\"string\""
        },
        {
         "metadata": "{}",
         "name": "in_apple_playlists",
         "type": "\"integer\""
        },
        {
         "metadata": "{}",
         "name": "in_apple_charts",
         "type": "\"integer\""
        },
        {
         "metadata": "{}",
         "name": "in_deezer_playlists",
         "type": "\"string\""
        },
        {
         "metadata": "{}",
         "name": "in_deezer_charts",
         "type": "\"integer\""
        },
        {
         "metadata": "{}",
         "name": "in_shazam_charts",
         "type": "\"string\""
        },
        {
         "metadata": "{}",
         "name": "bpm",
         "type": "\"integer\""
        },
        {
         "metadata": "{}",
         "name": "key",
         "type": "\"string\""
        },
        {
         "metadata": "{}",
         "name": "mode",
         "type": "\"string\""
        },
        {
         "metadata": "{}",
         "name": "danceability_%",
         "type": "\"integer\""
        },
        {
         "metadata": "{}",
         "name": "valence_%",
         "type": "\"integer\""
        },
        {
         "metadata": "{}",
         "name": "energy_%",
         "type": "\"integer\""
        },
        {
         "metadata": "{}",
         "name": "acousticness_%",
         "type": "\"integer\""
        },
        {
         "metadata": "{}",
         "name": "instrumentalness_%",
         "type": "\"integer\""
        },
        {
         "metadata": "{}",
         "name": "liveness_%",
         "type": "\"integer\""
        },
        {
         "metadata": "{}",
         "name": "speechiness_%",
         "type": "\"integer\""
        }
       ],
       "type": "table"
      }
     },
     "output_type": "display_data"
    }
   ],
   "source": [
    "%sql\n",
    "select *\n",
    "from spotify\n",
    "where in_spotify_charts > 0 and released_year = 2023 \n",
    "order by `danceability_%` desc \n",
    "limit 5"
   ]
  },
  {
   "cell_type": "code",
   "execution_count": 0,
   "metadata": {
    "application/vnd.databricks.v1+cell": {
     "cellMetadata": {
      "byteLimit": 2048000,
      "rowLimit": 10000
     },
     "inputWidgets": {},
     "nuid": "7b1d19f6-f182-484b-b97d-f2ffe2b96730",
     "showTitle": false,
     "title": ""
    }
   },
   "outputs": [],
   "source": [
    "##finding the highest streaming songs with features "
   ]
  },
  {
   "cell_type": "code",
   "execution_count": 0,
   "metadata": {
    "application/vnd.databricks.v1+cell": {
     "cellMetadata": {
      "byteLimit": 2048000,
      "implicitDf": true,
      "rowLimit": 10000
     },
     "inputWidgets": {},
     "nuid": "efecb287-94db-4c93-9e40-a85e15085fa8",
     "showTitle": false,
     "title": ""
    }
   },
   "outputs": [
    {
     "output_type": "display_data",
     "data": {
      "text/html": [
       "<style scoped>\n",
       "  .table-result-container {\n",
       "    max-height: 300px;\n",
       "    overflow: auto;\n",
       "  }\n",
       "  table, th, td {\n",
       "    border: 1px solid black;\n",
       "    border-collapse: collapse;\n",
       "  }\n",
       "  th, td {\n",
       "    padding: 5px;\n",
       "  }\n",
       "  th {\n",
       "    text-align: left;\n",
       "  }\n",
       "</style><div class='table-result-container'><table class='table-result'><thead style='background-color: white'><tr><th>track_name</th><th>artist(s)_name</th><th>artist_count</th><th>released_year</th><th>released_month</th><th>released_day</th><th>in_spotify_playlists</th><th>in_spotify_charts</th><th>streams</th><th>in_apple_playlists</th><th>in_apple_charts</th><th>in_deezer_playlists</th><th>in_deezer_charts</th><th>in_shazam_charts</th><th>bpm</th><th>key</th><th>mode</th><th>danceability_%</th><th>valence_%</th><th>energy_%</th><th>acousticness_%</th><th>instrumentalness_%</th><th>liveness_%</th><th>speechiness_%</th></tr></thead><tbody><tr><td>Am I Dreaming (Metro Boomin & A$AP Rocky, Roisee)</td><td>A$AP Rocky, Metro Boomin, Roisee</td><td>3</td><td>2023</td><td>6</td><td>2</td><td>727</td><td>16</td><td>94186466</td><td>17</td><td>60</td><td>28</td><td>1</td><td>44</td><td>90</td><td>A</td><td>Minor</td><td>60</td><td>13</td><td>53</td><td>4</td><td>0</td><td>21</td><td>4</td></tr><tr><td>VAGABUNDO</td><td>Sebastian Yatra, Manuel Turizo, Be��</td><td>3</td><td>2023</td><td>5</td><td>12</td><td>1094</td><td>34</td><td>90839753</td><td>40</td><td>58</td><td>47</td><td>8</td><td>203</td><td>127</td><td>B</td><td>Minor</td><td>82</td><td>89</td><td>85</td><td>4</td><td>0</td><td>23</td><td>6</td></tr><tr><td>Annihilate (Spider-Man: Across the Spider-Verse) (Metro Boomin & Swae Lee, Lil Wayne, Offset)</td><td>Swae Lee, Lil Wayne, Offset, Metro Boomin</td><td>4</td><td>2023</td><td>6</td><td>2</td><td>551</td><td>4</td><td>86773632</td><td>13</td><td>46</td><td>20</td><td>1</td><td>10</td><td>146</td><td>B</td><td>Minor</td><td>61</td><td>20</td><td>48</td><td>21</td><td>0</td><td>12</td><td>6</td></tr><tr><td>LADY GAGA</td><td>Gabito Ballesteros, Junior H, Peso Pluma</td><td>3</td><td>2023</td><td>6</td><td>22</td><td>332</td><td>26</td><td>86444842</td><td>11</td><td>163</td><td>10</td><td>4</td><td>0</td><td>140</td><td>F</td><td>Minor</td><td>65</td><td>87</td><td>74</td><td>22</td><td>0</td><td>42</td><td>4</td></tr><tr><td>Novo Balan�</td><td>Veigh, Bvga Beatz, Supernova Ent, Prod Malax</td><td>4</td><td>2023</td><td>5</td><td>19</td><td>283</td><td>7</td><td>81102253</td><td>6</td><td>9</td><td>26</td><td>1</td><td>66</td><td>124</td><td>D#</td><td>Minor</td><td>84</td><td>65</td><td>50</td><td>67</td><td>0</td><td>13</td><td>6</td></tr></tbody></table></div>"
      ]
     },
     "metadata": {
      "application/vnd.databricks.v1+output": {
       "addedWidgets": {},
       "aggData": [],
       "aggError": "",
       "aggOverflow": false,
       "aggSchema": [],
       "aggSeriesLimitReached": false,
       "aggType": "",
       "arguments": {},
       "columnCustomDisplayInfos": {},
       "data": [
        [
         "Am I Dreaming (Metro Boomin & A$AP Rocky, Roisee)",
         "A$AP Rocky, Metro Boomin, Roisee",
         3,
         2023,
         6,
         2,
         727,
         16,
         "94186466",
         17,
         60,
         "28",
         1,
         "44",
         90,
         "A",
         "Minor",
         60,
         13,
         53,
         4,
         0,
         21,
         4
        ],
        [
         "VAGABUNDO",
         "Sebastian Yatra, Manuel Turizo, Be��",
         3,
         2023,
         5,
         12,
         1094,
         34,
         "90839753",
         40,
         58,
         "47",
         8,
         "203",
         127,
         "B",
         "Minor",
         82,
         89,
         85,
         4,
         0,
         23,
         6
        ],
        [
         "Annihilate (Spider-Man: Across the Spider-Verse) (Metro Boomin & Swae Lee, Lil Wayne, Offset)",
         "Swae Lee, Lil Wayne, Offset, Metro Boomin",
         4,
         2023,
         6,
         2,
         551,
         4,
         "86773632",
         13,
         46,
         "20",
         1,
         "10",
         146,
         "B",
         "Minor",
         61,
         20,
         48,
         21,
         0,
         12,
         6
        ],
        [
         "LADY GAGA",
         "Gabito Ballesteros, Junior H, Peso Pluma",
         3,
         2023,
         6,
         22,
         332,
         26,
         "86444842",
         11,
         163,
         "10",
         4,
         "0",
         140,
         "F",
         "Minor",
         65,
         87,
         74,
         22,
         0,
         42,
         4
        ],
        [
         "Novo Balan�",
         "Veigh, Bvga Beatz, Supernova Ent, Prod Malax",
         4,
         2023,
         5,
         19,
         283,
         7,
         "81102253",
         6,
         9,
         "26",
         1,
         "66",
         124,
         "D#",
         "Minor",
         84,
         65,
         50,
         67,
         0,
         13,
         6
        ]
       ],
       "datasetInfos": [],
       "dbfsResultPath": null,
       "isJsonSchema": true,
       "metadata": {},
       "overflow": false,
       "plotOptions": {
        "customPlotOptions": {},
        "displayType": "table",
        "pivotAggregation": null,
        "pivotColumns": null,
        "xColumns": null,
        "yColumns": null
       },
       "removedWidgets": [],
       "schema": [
        {
         "metadata": "{}",
         "name": "track_name",
         "type": "\"string\""
        },
        {
         "metadata": "{}",
         "name": "artist(s)_name",
         "type": "\"string\""
        },
        {
         "metadata": "{}",
         "name": "artist_count",
         "type": "\"integer\""
        },
        {
         "metadata": "{}",
         "name": "released_year",
         "type": "\"integer\""
        },
        {
         "metadata": "{}",
         "name": "released_month",
         "type": "\"integer\""
        },
        {
         "metadata": "{}",
         "name": "released_day",
         "type": "\"integer\""
        },
        {
         "metadata": "{}",
         "name": "in_spotify_playlists",
         "type": "\"integer\""
        },
        {
         "metadata": "{}",
         "name": "in_spotify_charts",
         "type": "\"integer\""
        },
        {
         "metadata": "{}",
         "name": "streams",
         "type": "\"string\""
        },
        {
         "metadata": "{}",
         "name": "in_apple_playlists",
         "type": "\"integer\""
        },
        {
         "metadata": "{}",
         "name": "in_apple_charts",
         "type": "\"integer\""
        },
        {
         "metadata": "{}",
         "name": "in_deezer_playlists",
         "type": "\"string\""
        },
        {
         "metadata": "{}",
         "name": "in_deezer_charts",
         "type": "\"integer\""
        },
        {
         "metadata": "{}",
         "name": "in_shazam_charts",
         "type": "\"string\""
        },
        {
         "metadata": "{}",
         "name": "bpm",
         "type": "\"integer\""
        },
        {
         "metadata": "{}",
         "name": "key",
         "type": "\"string\""
        },
        {
         "metadata": "{}",
         "name": "mode",
         "type": "\"string\""
        },
        {
         "metadata": "{}",
         "name": "danceability_%",
         "type": "\"integer\""
        },
        {
         "metadata": "{}",
         "name": "valence_%",
         "type": "\"integer\""
        },
        {
         "metadata": "{}",
         "name": "energy_%",
         "type": "\"integer\""
        },
        {
         "metadata": "{}",
         "name": "acousticness_%",
         "type": "\"integer\""
        },
        {
         "metadata": "{}",
         "name": "instrumentalness_%",
         "type": "\"integer\""
        },
        {
         "metadata": "{}",
         "name": "liveness_%",
         "type": "\"integer\""
        },
        {
         "metadata": "{}",
         "name": "speechiness_%",
         "type": "\"integer\""
        }
       ],
       "type": "table"
      }
     },
     "output_type": "display_data"
    }
   ],
   "source": [
    "%sql\n",
    "select *\n",
    "from spotify\n",
    "where artist_count > 2 and released_year = 2023 \n",
    "order by streams desc \n",
    "limit 5"
   ]
  }
 ],
 "metadata": {
  "application/vnd.databricks.v1+notebook": {
   "dashboards": [
    {
     "elements": [
      {
       "dashboardResultIndex": 0,
       "elementNUID": "65ef0945-e435-4dd3-b9a6-ecd0c27fe6d7",
       "elementType": "command",
       "guid": "085274f8-889c-4f54-9209-5602f34b5131",
       "options": null,
       "position": {
        "height": 6,
        "width": 12,
        "x": 0,
        "y": 0,
        "z": null
       },
       "resultIndex": null
      }
     ],
     "globalVars": {},
     "guid": "",
     "layoutOption": {
      "grid": true,
      "stack": true
     },
     "nuid": "f9b852d2-32db-41b7-9c34-7399efc71122",
     "origId": 879940978006059,
     "title": "Untitled",
     "version": "DashboardViewV1",
     "width": 1024
    },
    {
     "elements": [
      {
       "dashboardResultIndex": 0,
       "elementNUID": "2dcb8db2-6cc2-4151-b7ee-0283d43a64f4",
       "elementType": "command",
       "guid": "9da8f0a8-e096-4c68-bc97-07c7cb6455a4",
       "options": null,
       "position": {
        "height": 6,
        "width": 12,
        "x": 0,
        "y": 0,
        "z": null
       },
       "resultIndex": null
      }
     ],
     "globalVars": {},
     "guid": "",
     "layoutOption": {
      "grid": true,
      "stack": true
     },
     "nuid": "0f90a5e1-4f50-4aab-a464-b90ccb3671d9",
     "origId": 879940978006062,
     "title": "Untitled",
     "version": "DashboardViewV1",
     "width": 1024
    }
   ],
   "language": "python",
   "notebookMetadata": {
    "mostRecentlyExecutedCommandWithImplicitDF": {
     "commandId": 879940978006056,
     "dataframes": [
      "_sqldf"
     ]
    },
    "pythonIndentUnit": 4
   },
   "notebookName": "spark",
   "widgets": {}
  }
 },
 "nbformat": 4,
 "nbformat_minor": 0
}
